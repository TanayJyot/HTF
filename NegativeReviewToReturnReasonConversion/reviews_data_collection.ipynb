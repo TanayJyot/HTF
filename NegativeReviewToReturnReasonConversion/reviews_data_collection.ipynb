{
 "cells": [
  {
   "cell_type": "code",
   "execution_count": null,
   "id": "initial_id",
   "metadata": {
    "collapsed": true
   },
   "outputs": [],
   "source": [
    "from datasets import load_dataset\n",
    "import json"
   ]
  },
  {
   "metadata": {},
   "cell_type": "code",
   "outputs": [],
   "execution_count": null,
   "source": [
    "\n",
    "\n",
    "review_dataset = load_dataset(\n",
    "    \"McAuley-Lab/Amazon-Reviews-2023\", \"raw_review_Appliances\", trust_remote_code=True, streaming=True, split=\"full\", num_proc=10)\n",
    "meta_dataset = load_dataset(\n",
    "    \"McAuley-Lab/Amazon-Reviews-2023\", \"raw_meta_Appliances\", trust_remote_code=True, streaming=True, split=\"full\", num_proc=10)\n",
    "\n"
   ],
   "id": "4266f77f6bdca32"
  },
  {
   "metadata": {},
   "cell_type": "code",
   "outputs": [],
   "execution_count": null,
   "source": [
    "processed_data = []\n",
    "meta_dataset = meta_dataset.shuffle()\n",
    "meta_iterable = iter(meta_dataset)\n",
    "\n",
    "for i in range(10):\n",
    "    meta = next(meta_iterable)\n",
    "    print(\"getting reviews for\", meta[\"title\"])\n",
    "    review_with_asin = review_dataset.filter(\n",
    "        lambda review: review[\"parent_asin\"] == meta[\"parent_asin\"]\n",
    "    )\n",
    "    reviews = list(review_with_asin.take(5))\n",
    "    processed_data.append(\n",
    "        {\n",
    "            \"item name\": meta[\"title\"],\n",
    "            \"item description\": \" \".join(meta[\"features\"]),\n",
    "            \"reviews\": [{\"stars\": review[\"rating\"], \"content\": f\"Title: {review['title']}, Text: {review['text']}\"} for review in reviews],\n",
    "        }\n",
    "    )\n",
    "\n",
    "with open(\"real_dataset.json\", \"w\") as out_file:\n",
    "    json.dump(processed_data, out_file, indent=4)"
   ],
   "id": "ac824de6ed6382e1"
  }
 ],
 "metadata": {
  "kernelspec": {
   "display_name": "Python 3",
   "language": "python",
   "name": "python3"
  },
  "language_info": {
   "codemirror_mode": {
    "name": "ipython",
    "version": 2
   },
   "file_extension": ".py",
   "mimetype": "text/x-python",
   "name": "python",
   "nbconvert_exporter": "python",
   "pygments_lexer": "ipython2",
   "version": "2.7.6"
  }
 },
 "nbformat": 4,
 "nbformat_minor": 5
}
