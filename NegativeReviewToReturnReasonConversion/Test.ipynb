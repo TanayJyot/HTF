{
 "cells": [
  {
   "cell_type": "code",
   "id": "initial_id",
   "metadata": {
    "collapsed": true,
    "jupyter": {
     "is_executing": true
    },
    "ExecuteTime": {
     "start_time": "2025-03-08T16:29:22.700472Z"
    }
   },
   "source": [
    "from datasets import load_dataset\n",
    "\n",
    "meta_dataset = load_dataset(\"McAuley-Lab/Amazon-Reviews-2023\", \"raw_meta_Clothing_Shoes_and_Jewelry\",\n",
    "                                split=\"full\")\n",
    "review_dataset = load_dataset(\"McAuley-Lab/Amazon-Reviews-2023\", \"raw_review_Clothing_Shoes_and_Jewelry\",\n",
    "                                  split=\"full\")"
   ],
   "outputs": [
    {
     "data": {
      "text/plain": [
       "Downloading data:   0%|          | 0.00/18.0G [00:00<?, ?B/s]"
      ],
      "application/vnd.jupyter.widget-view+json": {
       "version_major": 2,
       "version_minor": 0,
       "model_id": "bab8863c910c43258d77b222cc478b28"
      }
     },
     "metadata": {},
     "output_type": "display_data"
    }
   ],
   "execution_count": null
  },
  {
   "metadata": {},
   "cell_type": "code",
   "outputs": [],
   "execution_count": null,
   "source": "",
   "id": "5a332416d3919d9d"
  }
 ],
 "metadata": {
  "kernelspec": {
   "display_name": "Python 3",
   "language": "python",
   "name": "python3"
  },
  "language_info": {
   "codemirror_mode": {
    "name": "ipython",
    "version": 2
   },
   "file_extension": ".py",
   "mimetype": "text/x-python",
   "name": "python",
   "nbconvert_exporter": "python",
   "pygments_lexer": "ipython2",
   "version": "2.7.6"
  }
 },
 "nbformat": 4,
 "nbformat_minor": 5
}
