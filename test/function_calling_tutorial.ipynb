{
 "cells": [
  {
   "cell_type": "code",
   "id": "initial_id",
   "metadata": {
    "collapsed": true,
    "ExecuteTime": {
     "end_time": "2025-03-01T20:36:21.551218Z",
     "start_time": "2025-03-01T20:36:21.536577Z"
    }
   },
   "source": [
    "from os import getenv\n",
    "from dotenv import load_dotenv\n",
    "from google import genai\n",
    "load_dotenv()\n",
    "\n",
    "\n",
    "api_key = getenv(\"GEMINI_API_KEY\")\n",
    "client = genai.Client(api_key=api_key)\n",
    "\n",
    "\n",
    "\n",
    "def set_light_values(brightness: int, color_temp: str) -> dict[str, int | str]:\n",
    "    \"\"\"Set the brightness and color temperature of a room light. (mock API).\n",
    "\n",
    "    Args:\n",
    "        brightness: Light level from 0 to 100. Zero is off and 100 is full brightness\n",
    "        color_temp: Color temperature of the light fixture, which can be `daylight`, `cool` or `warm`.\n",
    "\n",
    "    Returns:\n",
    "        A dictionary containing the set brightness and color temperature.\n",
    "    \"\"\"\n",
    "    print(brightness, color_temp)\n",
    "    return {\n",
    "        \"brightness\": brightness,\n",
    "        \"colorTemperature\": color_temp\n",
    "    }"
   ],
   "outputs": [],
   "execution_count": 9
  },
  {
   "metadata": {
    "ExecuteTime": {
     "end_time": "2025-03-01T20:36:24.285684Z",
     "start_time": "2025-03-01T20:36:21.851822Z"
    }
   },
   "cell_type": "code",
   "source": [
    "config = {\n",
    "    'tools': [set_light_values],\n",
    "}\n",
    "\n",
    "# Generate directly with generate_content.\n",
    "response = client.models.generate_content(\n",
    "    model='gemini-2.0-flash',\n",
    "    config=config,\n",
    "    contents='Turn the lights down to a romantic level'\n",
    ")\n",
    "print(response.text)\n",
    "\n",
    "# Use the chat interface.\n",
    "chat = client.chats.create(model='gemini-2.0-flash', config=config)\n",
    "response = chat.send_message('Turn the lights down to a romantic level')\n",
    "print(response.text)"
   ],
   "id": "37494851d5e1e26a",
   "outputs": [
    {
     "name": "stdout",
     "output_type": "stream",
     "text": [
      "20 warm\n",
      "OK. I've set the lights to 20% brightness and a warm color temperature.\n",
      "\n",
      "20 warm\n",
      "OK. I've set the lights to 20% brightness and a warm color temperature.\n",
      "\n"
     ]
    }
   ],
   "execution_count": 10
  },
  {
   "metadata": {},
   "cell_type": "code",
   "outputs": [],
   "execution_count": null,
   "source": "",
   "id": "b8d2f70993bc1b6e"
  }
 ],
 "metadata": {
  "kernelspec": {
   "display_name": "Python 3",
   "language": "python",
   "name": "python3"
  },
  "language_info": {
   "codemirror_mode": {
    "name": "ipython",
    "version": 2
   },
   "file_extension": ".py",
   "mimetype": "text/x-python",
   "name": "python",
   "nbconvert_exporter": "python",
   "pygments_lexer": "ipython2",
   "version": "2.7.6"
  }
 },
 "nbformat": 4,
 "nbformat_minor": 5
}
